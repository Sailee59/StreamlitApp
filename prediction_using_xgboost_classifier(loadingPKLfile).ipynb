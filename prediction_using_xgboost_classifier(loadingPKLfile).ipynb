{
  "cells": [
    {
      "cell_type": "code",
      "execution_count": null,
      "id": "26cf1e43",
      "metadata": {
        "id": "26cf1e43"
      },
      "outputs": [],
      "source": [
        "import pickle"
      ]
    },
    {
      "cell_type": "code",
      "execution_count": null,
      "id": "08434c4c",
      "metadata": {
        "id": "08434c4c"
      },
      "outputs": [],
      "source": [
        "with open(\"xgb_classifier.pkl\", \"rb\") as file:\n",
        "    xgb_clf = pickle.load(file)"
      ]
    },
    {
      "cell_type": "code",
      "execution_count": null,
      "id": "77761ff5",
      "metadata": {
        "id": "77761ff5",
        "outputId": "19c4fafd-6663-4d29-ee74-ce2197be4006"
      },
      "outputs": [
        {
          "data": {
            "text/plain": [
              "array([4], dtype=int64)"
            ]
          },
          "execution_count": 4,
          "metadata": {},
          "output_type": "execute_result"
        }
      ],
      "source": [
        "xgb_clf.predict([[53,1,1,1,55.355]])"
      ]
    },
    {
      "cell_type": "code",
      "execution_count": null,
      "id": "0673ac70",
      "metadata": {
        "id": "0673ac70"
      },
      "outputs": [],
      "source": []
    }
  ],
  "metadata": {
    "kernelspec": {
      "display_name": "Python 3 (ipykernel)",
      "language": "python",
      "name": "python3"
    },
    "language_info": {
      "codemirror_mode": {
        "name": "ipython",
        "version": 3
      },
      "file_extension": ".py",
      "mimetype": "text/x-python",
      "name": "python",
      "nbconvert_exporter": "python",
      "pygments_lexer": "ipython3",
      "version": "3.9.13"
    },
    "colab": {
      "provenance": []
    }
  },
  "nbformat": 4,
  "nbformat_minor": 5
}